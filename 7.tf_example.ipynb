{
 "cells": [
  {
   "cell_type": "code",
   "execution_count": 1,
   "id": "ff9a8f4f-a4d8-47b0-8057-be90b1160101",
   "metadata": {},
   "outputs": [
    {
     "name": "stderr",
     "output_type": "stream",
     "text": [
      "2024-03-09 16:00:05.912463: E external/local_xla/xla/stream_executor/cuda/cuda_dnn.cc:9261] Unable to register cuDNN factory: Attempting to register factory for plugin cuDNN when one has already been registered\n",
      "2024-03-09 16:00:05.912484: E external/local_xla/xla/stream_executor/cuda/cuda_fft.cc:607] Unable to register cuFFT factory: Attempting to register factory for plugin cuFFT when one has already been registered\n",
      "2024-03-09 16:00:05.913086: E external/local_xla/xla/stream_executor/cuda/cuda_blas.cc:1515] Unable to register cuBLAS factory: Attempting to register factory for plugin cuBLAS when one has already been registered\n",
      "2024-03-09 16:00:05.916801: I tensorflow/core/platform/cpu_feature_guard.cc:182] This TensorFlow binary is optimized to use available CPU instructions in performance-critical operations.\n",
      "To enable the following instructions: AVX2 FMA, in other operations, rebuild TensorFlow with the appropriate compiler flags.\n",
      "2024-03-09 16:00:06.464763: W tensorflow/compiler/tf2tensorrt/utils/py_utils.cc:38] TF-TRT Warning: Could not find TensorRT\n"
     ]
    }
   ],
   "source": [
    "#! pip3 install tensorflow tensorflow-hub numpy \n",
    "import os\n",
    "import tensorflow as tf\n",
    "import tensorflow_hub as hub\n",
    "import numpy as np\n",
    "import os\n",
    "import re\n",
    "from qdrant_client import QdrantClient\n",
    "from qdrant_client.http import models\n",
    "import time"
   ]
  },
  {
   "cell_type": "code",
   "execution_count": 2,
   "id": "8f82911f-f515-4030-8a31-d29eb69dc59e",
   "metadata": {},
   "outputs": [],
   "source": [
    "# Download the model and load the model\n",
    "\n",
    "module_url = \"https://tfhub.dev/google/universal-sentence-encoder-large/5\" #@param [\"https://tfhub.dev/google/universal-sentence-encoder/4\", \"https://tfhub.dev/google/universal-sentence-encoder-large/5\"]\n",
    "model = hub.load(module_url)"
   ]
  },
  {
   "cell_type": "code",
   "execution_count": 3,
   "id": "3409d088-6e26-475f-a4cd-a38ebef8944c",
   "metadata": {},
   "outputs": [],
   "source": [
    "# Function to generate embeddings\n",
    "\n",
    "def embeddings(text):\n",
    "    return np.array(model(text)).flatten().tolist()"
   ]
  },
  {
   "cell_type": "code",
   "execution_count": 4,
   "id": "fe748d76-3a2b-4b4a-8223-857442823238",
   "metadata": {},
   "outputs": [],
   "source": [
    "# Dataset available at https://archive.ics.uci.edu/ml/datasets/SMS+Spam+Collection\n",
    "# Download the dataset and extract the files before running this cell\n",
    "# We will create the embeddings from this dataset using the universal-sentence-encoder model\n",
    "\n",
    "file_path = 'SMSSpamCollection'\n",
    "\n",
    "with open(file_path) as file:\n",
    "    lines = [line for line in file]\n",
    "\n",
    "msgs = [{\"SMS\":x.split('\\t')[1].replace('\\n', '')}   for x in lines]\n",
    "embdngs = [embeddings([x[\"SMS\"]]) for x in msgs]\n",
    "indx = list(range(1, len(msgs)+1))\n",
    "\n"
   ]
  },
  {
   "cell_type": "code",
   "execution_count": 5,
   "id": "5a7cb9db-344e-4bd4-afc8-d52cec835c85",
   "metadata": {},
   "outputs": [],
   "source": [
    "# Connect to Qdrant\n",
    "client = QdrantClient(\"localhost\", port=6333, timeout=60)\n",
    "\n",
    "try:\n",
    "    client.delete_collection(collection_name=\"SMS\")\n",
    "except:\n",
    "    pass"
   ]
  },
  {
   "cell_type": "code",
   "execution_count": 6,
   "id": "26ff7602-7720-4425-8dd4-dd2d3f9eb795",
   "metadata": {},
   "outputs": [
    {
     "data": {
      "text/plain": [
       "True"
      ]
     },
     "execution_count": 6,
     "metadata": {},
     "output_type": "execute_result"
    }
   ],
   "source": [
    "# Collection with named Vectors\n",
    "\n",
    "client.create_collection(\n",
    "    collection_name=\"SMS\",\n",
    "    vectors_config={\n",
    "        \"txt_embedding\": models.VectorParams(size=512, distance=models.Distance.EUCLID)\n",
    "    },\n",
    ")\n"
   ]
  },
  {
   "cell_type": "code",
   "execution_count": 7,
   "id": "870cffde-aca4-447e-a9ee-e487f6bbc466",
   "metadata": {},
   "outputs": [],
   "source": [
    "# Batch insert\n",
    "batch_size = 1000\n",
    "\n",
    "id = [indx[i:i + batch_size] for i in range(0, len(indx), batch_size)]\n",
    "payload = [msgs[i:i + batch_size] for i in range(0, len(msgs), batch_size)]\n",
    "vector = [{\"txt_embedding\":embdngs[i:i + batch_size]} for i in range(0, len(embdngs), batch_size)]\n",
    "\n",
    "for x in range(len(indx)//batch_size):\n",
    "\n",
    "    client.upsert(\n",
    "        collection_name=\"SMS\",\n",
    "        points=models.Batch(\n",
    "            ids=id[x],\n",
    "            payloads=payload[x],\n",
    "            vectors=vector[x]),  wait=True\n",
    "    )\n",
    "    time.sleep(2)"
   ]
  },
  {
   "cell_type": "code",
   "execution_count": 8,
   "id": "0d6dc903-863e-4b71-a429-9cb73c35d8a5",
   "metadata": {},
   "outputs": [],
   "source": [
    "# test message\n",
    "test_message = [\"claim prize\"]\n",
    "test_message_vector = embeddings(test_message)"
   ]
  },
  {
   "cell_type": "code",
   "execution_count": 9,
   "id": "ca920bcf-32a4-494e-92c2-f1128963b7f5",
   "metadata": {},
   "outputs": [
    {
     "data": {
      "text/plain": [
       "[ScoredPoint(id=4048, version=4, score=1.0884774, payload={'SMS': 'Win a £1000 cash prize or a prize worth £5000'}, vector=None, shard_key=None),\n",
       " ScoredPoint(id=577, version=0, score=1.0934176, payload={'SMS': 'You have won ?1,000 cash or a ?2,000 prize! To claim, call09050000327'}, vector=None, shard_key=None),\n",
       " ScoredPoint(id=4282, version=4, score=1.1073261, payload={'SMS': 'WINNER!! As a valued network customer you have been selected to receivea £900 prize reward! To claim call 09061701461. Claim code KL341. Valid 12 hours only.'}, vector=None, shard_key=None),\n",
       " ScoredPoint(id=9, version=0, score=1.1073261, payload={'SMS': 'WINNER!! As a valued network customer you have been selected to receivea £900 prize reward! To claim call 09061701461. Claim code KL341. Valid 12 hours only.'}, vector=None, shard_key=None),\n",
       " ScoredPoint(id=4037, version=4, score=1.1073704, payload={'SMS': 'YOU ARE CHOSEN TO RECEIVE A £350 AWARD! Pls call claim number 09066364311 to collect your award which you are selected to receive as a valued mobile customer.'}, vector=None, shard_key=None)]"
      ]
     },
     "execution_count": 9,
     "metadata": {},
     "output_type": "execute_result"
    }
   ],
   "source": [
    "## Vector Similarity Search\n",
    "client.search(\n",
    "    collection_name=\"SMS\",\n",
    "    query_vector=( \"txt_embedding\",test_message_vector),\n",
    "    limit=5,with_vectors=False\n",
    ")\n"
   ]
  },
  {
   "cell_type": "code",
   "execution_count": 10,
   "id": "2cbd263e-201a-455e-a12c-114e12de349d",
   "metadata": {},
   "outputs": [
    {
     "data": {
      "text/plain": [
       "[ScoredPoint(id=931, version=0, score=1.1438426, payload={'SMS': 'money!!! you r a lucky winner ! 2 claim your prize text money 2 88600 over £1million to give away ! ppt150x3+normal text rate box403 w1t1jy'}, vector=None, shard_key=None),\n",
       " ScoredPoint(id=4277, version=4, score=1.3449762, payload={'SMS': 'Haiyoh... Maybe your hamster was jealous of million'}, vector=None, shard_key=None)]"
      ]
     },
     "execution_count": 10,
     "metadata": {},
     "output_type": "execute_result"
    }
   ],
   "source": [
    "# Search vectors along with payload\n",
    "\n",
    "client.search(\n",
    "    collection_name=\"SMS\",\n",
    "    query_vector=( \"txt_embedding\",test_message_vector),\n",
    "    limit=5,\n",
    "    query_filter=models.Filter(\n",
    "    should=[\n",
    "        models.FieldCondition(\n",
    "            key=\"SMS\",\n",
    "            match=models.MatchText(text=\"million\"),\n",
    "            ),\n",
    "            ]\n",
    "),\n",
    ")"
   ]
  },
  {
   "cell_type": "code",
   "execution_count": null,
   "id": "2f896d3e-1fe2-4ce0-a887-30e824297b8d",
   "metadata": {},
   "outputs": [],
   "source": []
  }
 ],
 "metadata": {
  "kernelspec": {
   "display_name": "Python 3 (ipykernel)",
   "language": "python",
   "name": "python3"
  },
  "language_info": {
   "codemirror_mode": {
    "name": "ipython",
    "version": 3
   },
   "file_extension": ".py",
   "mimetype": "text/x-python",
   "name": "python",
   "nbconvert_exporter": "python",
   "pygments_lexer": "ipython3",
   "version": "3.11.2"
  }
 },
 "nbformat": 4,
 "nbformat_minor": 5
}

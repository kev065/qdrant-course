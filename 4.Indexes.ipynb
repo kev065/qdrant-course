{
 "cells": [
  {
   "cell_type": "markdown",
   "id": "fad0f443-560e-4c14-b254-8c40efc1a840",
   "metadata": {},
   "source": [
    "### Vector Index\n",
    "HNSW Index\n",
    "\n",
    "### Payload index\n",
    "- keyword\n",
    "- integer\n",
    "- float\n",
    "- bool\n",
    "- geo\n",
    "- text"
   ]
  },
  {
   "cell_type": "code",
   "execution_count": 1,
   "id": "03d198e3-0789-44d4-ab78-c74e67ec3aac",
   "metadata": {},
   "outputs": [],
   "source": [
    "from qdrant_client import QdrantClient\n",
    "from qdrant_client.http import models\n"
   ]
  },
  {
   "cell_type": "code",
   "execution_count": 2,
   "id": "2ae7656d-ab49-445c-9451-e761b908fa16",
   "metadata": {},
   "outputs": [
    {
     "data": {
      "text/plain": [
       "CollectionsResponse(collections=[CollectionDescription(name='multi_vector_collection'), CollectionDescription(name='hello_world_collection'), CollectionDescription(name='hnsw_example'), CollectionDescription(name='wolt_food')])"
      ]
     },
     "execution_count": 2,
     "metadata": {},
     "output_type": "execute_result"
    }
   ],
   "source": [
    "client = QdrantClient(\"localhost\", port=6333, timeout=300)\n",
    "client.get_collections()"
   ]
  },
  {
   "cell_type": "code",
   "execution_count": 3,
   "id": "0869dff5-5825-4d9f-b05a-de2c49034378",
   "metadata": {},
   "outputs": [
    {
     "data": {
      "text/plain": [
       "UpdateResult(operation_id=122245, status=<UpdateStatus.COMPLETED: 'completed'>)"
      ]
     },
     "execution_count": 3,
     "metadata": {},
     "output_type": "execute_result"
    }
   ],
   "source": [
    "# Create index\n",
    "client.create_payload_index(\n",
    "    collection_name=\"wolt_food\",\n",
    "    field_name=\"description\",\n",
    "    field_schema=\"keyword\",\n",
    ")"
   ]
  },
  {
   "cell_type": "code",
   "execution_count": 4,
   "id": "ae8281f5-b842-4489-b35b-2251f58987af",
   "metadata": {},
   "outputs": [
    {
     "data": {
      "text/plain": [
       "UpdateResult(operation_id=122247, status=<UpdateStatus.COMPLETED: 'completed'>)"
      ]
     },
     "execution_count": 4,
     "metadata": {},
     "output_type": "execute_result"
    }
   ],
   "source": [
    "# Create index on nested fields\n",
    "client.create_payload_index(\n",
    "    collection_name=\"wolt_food\",\n",
    "    field_name=\"cafe.rating\",\n",
    "    field_schema=\"float\",\n",
    ")"
   ]
  },
  {
   "cell_type": "code",
   "execution_count": 5,
   "id": "2f6b1ef9-2c42-4738-87fc-2761ee91c4f1",
   "metadata": {},
   "outputs": [
    {
     "data": {
      "text/plain": [
       "UpdateResult(operation_id=122249, status=<UpdateStatus.COMPLETED: 'completed'>)"
      ]
     },
     "execution_count": 5,
     "metadata": {},
     "output_type": "execute_result"
    }
   ],
   "source": [
    "# Full text index\n",
    "\n",
    "client.create_payload_index(\n",
    "    collection_name=\"wolt_food\",\n",
    "    field_name=\"description\",\n",
    "    field_schema=models.TextIndexParams(\n",
    "        type=\"text\",\n",
    "        tokenizer=models.TokenizerType.WORD,\n",
    "        min_token_len=3,\n",
    "        max_token_len=8,\n",
    "        lowercase=True,\n",
    "    ),\n",
    ")"
   ]
  },
  {
   "cell_type": "code",
   "execution_count": 7,
   "id": "beb5b248-9658-4d58-a5e0-be821d948528",
   "metadata": {},
   "outputs": [
    {
     "data": {
      "text/plain": [
       "True"
      ]
     },
     "execution_count": 7,
     "metadata": {},
     "output_type": "execute_result"
    }
   ],
   "source": [
    "# HNSW\n",
    "\n",
    "client.create_collection(\n",
    "    collection_name=\"hnsw_example_1\",\n",
    "    vectors_config=models.VectorParams(size=128, distance=models.Distance.COSINE),\n",
    "    hnsw_config = models.HnswConfigDiff(m=16, ef_construct=128)\n",
    ")"
   ]
  },
  {
   "cell_type": "code",
   "execution_count": null,
   "id": "e9ffb782-a379-401f-bd2b-a7b6ce895a09",
   "metadata": {},
   "outputs": [],
   "source": []
  }
 ],
 "metadata": {
  "kernelspec": {
   "display_name": "Python 3 (ipykernel)",
   "language": "python",
   "name": "python3"
  },
  "language_info": {
   "codemirror_mode": {
    "name": "ipython",
    "version": 3
   },
   "file_extension": ".py",
   "mimetype": "text/x-python",
   "name": "python",
   "nbconvert_exporter": "python",
   "pygments_lexer": "ipython3",
   "version": "3.11.2"
  }
 },
 "nbformat": 4,
 "nbformat_minor": 5
}

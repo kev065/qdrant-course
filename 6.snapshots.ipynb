{
 "cells": [
  {
   "cell_type": "code",
   "execution_count": 1,
   "id": "77603009-31a1-4cb7-a156-f875491409fa",
   "metadata": {},
   "outputs": [],
   "source": [
    "from qdrant_client import QdrantClient"
   ]
  },
  {
   "cell_type": "code",
   "execution_count": 2,
   "id": "cacd9b10-9c8e-4dca-9160-edfbe62d3cce",
   "metadata": {},
   "outputs": [
    {
     "data": {
      "text/plain": [
       "CollectionsResponse(collections=[CollectionDescription(name='hnsw_example'), CollectionDescription(name='wolt_food'), CollectionDescription(name='scalar_quantization_collection'), CollectionDescription(name='binary_quantization_collection'), CollectionDescription(name='hnsw_example_1'), CollectionDescription(name='hello_world_collection'), CollectionDescription(name='product_quantization_collection'), CollectionDescription(name='multi_vector_collection')])"
      ]
     },
     "execution_count": 2,
     "metadata": {},
     "output_type": "execute_result"
    }
   ],
   "source": [
    "client = QdrantClient(\"localhost\", port=6333)\n",
    "client.get_collections()"
   ]
  },
  {
   "cell_type": "code",
   "execution_count": 3,
   "id": "a184cb43-4c88-400f-a309-af3bc3777326",
   "metadata": {},
   "outputs": [
    {
     "data": {
      "text/plain": [
       "SnapshotDescription(name='product_quantization_collection-5060073899656665-2024-03-04-12-06-22.snapshot', creation_time='2024-03-04T12:06:22', size=71682048)"
      ]
     },
     "execution_count": 3,
     "metadata": {},
     "output_type": "execute_result"
    }
   ],
   "source": [
    "# Create a snapshot\n",
    "\n",
    "client.create_snapshot(collection_name=\"product_quantization_collection\")\n"
   ]
  },
  {
   "cell_type": "code",
   "execution_count": 4,
   "id": "6d5098b9-0993-48fe-a276-c92dae37f6b2",
   "metadata": {},
   "outputs": [
    {
     "data": {
      "text/plain": [
       "[SnapshotDescription(name='product_quantization_collection-5060073899656665-2024-03-04-12-06-22.snapshot', creation_time='2024-03-04T12:06:22', size=71682048)]"
      ]
     },
     "execution_count": 4,
     "metadata": {},
     "output_type": "execute_result"
    }
   ],
   "source": [
    "# List the snapshots\n",
    "\n",
    "client.list_snapshots(collection_name=\"product_quantization_collection\")\n"
   ]
  },
  {
   "cell_type": "code",
   "execution_count": 5,
   "id": "def811b1-3412-4e7b-827d-9ff921a7fdec",
   "metadata": {},
   "outputs": [
    {
     "data": {
      "text/plain": [
       "True"
      ]
     },
     "execution_count": 5,
     "metadata": {},
     "output_type": "execute_result"
    }
   ],
   "source": [
    "# Delete the snapshot\n",
    "\n",
    "client.delete_snapshot(\n",
    "    collection_name=\"product_quantization_collection\", snapshot_name=\"product_quantization_collection-5060073899656665-2024-03-04-12-06-22.snapshot\"\n",
    ")\n"
   ]
  },
  {
   "cell_type": "code",
   "execution_count": 6,
   "id": "bbe39113-28c7-408e-a4d7-f016c295f42b",
   "metadata": {},
   "outputs": [
    {
     "data": {
      "text/plain": [
       "[]"
      ]
     },
     "execution_count": 6,
     "metadata": {},
     "output_type": "execute_result"
    }
   ],
   "source": [
    "client.list_snapshots(collection_name=\"product_quantization_collection\")\n"
   ]
  },
  {
   "cell_type": "code",
   "execution_count": null,
   "id": "263489df-d29b-4a25-9bb3-0cccca56fb2e",
   "metadata": {},
   "outputs": [],
   "source": []
  }
 ],
 "metadata": {
  "kernelspec": {
   "display_name": "Python 3 (ipykernel)",
   "language": "python",
   "name": "python3"
  },
  "language_info": {
   "codemirror_mode": {
    "name": "ipython",
    "version": 3
   },
   "file_extension": ".py",
   "mimetype": "text/x-python",
   "name": "python",
   "nbconvert_exporter": "python",
   "pygments_lexer": "ipython3",
   "version": "3.11.2"
  }
 },
 "nbformat": 4,
 "nbformat_minor": 5
}

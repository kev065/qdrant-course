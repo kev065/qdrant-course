{
 "cells": [
  {
   "cell_type": "code",
   "execution_count": 1,
   "id": "27219b0d-6c18-4593-bec3-ce939c71be69",
   "metadata": {},
   "outputs": [],
   "source": [
    "#!pip install langchain sentence-transformers langchain-openai\n",
    "from langchain.vectorstores import Qdrant\n",
    "from langchain.embeddings import HuggingFaceEmbeddings\n",
    "from langchain.document_loaders import TextLoader\n",
    "from langchain.text_splitter import CharacterTextSplitter\n",
    "#from langchain import VectorDBQA\n",
    "from langchain.chains import RetrievalQA as VectorDBQA\n",
    "from getpass import getpass\n",
    "from langchain_openai import OpenAI\n",
    "from langchain_core.vectorstores import VectorStoreRetriever"
   ]
  },
  {
   "cell_type": "code",
   "execution_count": 2,
   "id": "428eee03-2ca2-4b95-bf76-962fbc281c97",
   "metadata": {},
   "outputs": [],
   "source": [
    "embeddings = HuggingFaceEmbeddings(\n",
    "    model_name=\"sentence-transformers/all-mpnet-base-v2\"\n",
    ")"
   ]
  },
  {
   "cell_type": "code",
   "execution_count": 3,
   "id": "4a915262-7060-46c5-87e5-1b9cfa7239c1",
   "metadata": {},
   "outputs": [],
   "source": [
    "# load the data context data from the file\n",
    "\n",
    "filename = 'nobel_physics_2023.txt'\n",
    "with open(filename) as file:\n",
    "    text = [line.rstrip() for line in file]"
   ]
  },
  {
   "cell_type": "code",
   "execution_count": 4,
   "id": "7b2cb9cb-9d34-4392-9b9a-6d264c090c29",
   "metadata": {},
   "outputs": [],
   "source": [
    "doc_store = Qdrant.from_texts(\n",
    "    text, embeddings, url=\"localhost\", collection_name=\"nobel_prize\"\n",
    ")"
   ]
  },
  {
   "cell_type": "code",
   "execution_count": 5,
   "id": "90454f19-3d90-4920-abd0-b0ebbddd0f34",
   "metadata": {},
   "outputs": [],
   "source": [
    "doc_store_no_context = Qdrant.from_texts(\n",
    "    [''], embeddings, url=\"localhost\", collection_name=\"nobel_prize_no_context\"\n",
    ")"
   ]
  },
  {
   "cell_type": "code",
   "execution_count": 6,
   "id": "a2679e2b-891e-42ad-83b6-66d267e8c0f5",
   "metadata": {},
   "outputs": [
    {
     "name": "stdin",
     "output_type": "stream",
     "text": [
      "OpenAPI API Key:  ········\n"
     ]
    }
   ],
   "source": [
    "openai_api_key = getpass('OpenAPI API Key: ')\n",
    "llm_model = OpenAI(openai_api_key=openai_api_key)"
   ]
  },
  {
   "cell_type": "code",
   "execution_count": 10,
   "id": "37bd09ba-f8ef-4da8-9a34-9a06fa5ecaec",
   "metadata": {},
   "outputs": [],
   "source": [
    "from langchain.chains import RetrievalQA\n",
    "\n",
    "retriever_context = VectorStoreRetriever(vectorstore=doc_store)\n",
    "retrievalQAContext = RetrievalQA.from_llm(llm=llm_model, retriever=retriever_context)\n"
   ]
  },
  {
   "cell_type": "code",
   "execution_count": 14,
   "id": "3b53464a-77c5-4c67-a523-dc90f06638fc",
   "metadata": {},
   "outputs": [
    {
     "name": "stdout",
     "output_type": "stream",
     "text": [
      "\n",
      "The winner of the 2023 Nobel Prize in Physics was awarded for their work in experimental methods that generate attosecond pulses of light for the study of electro dynamics in matter.\n"
     ]
    }
   ],
   "source": [
    "question_1 = \"Which topic was the winner of nobel prize for physics in 2023?\"\n",
    "print(retrievalQAContext.run(question_1))"
   ]
  },
  {
   "cell_type": "code",
   "execution_count": 12,
   "id": "b343d28b-0f2b-4fee-832e-c06dd3ccc007",
   "metadata": {},
   "outputs": [],
   "source": [
    "retriever_no_context = VectorStoreRetriever(vectorstore=doc_store_no_context)\n",
    "retrievalQANoContext = RetrievalQA.from_llm(llm=llm_model, retriever=retriever_no_context)\n"
   ]
  },
  {
   "cell_type": "code",
   "execution_count": 13,
   "id": "2dcdb4dc-d8a6-4f45-999c-8bc2f9e3f361",
   "metadata": {},
   "outputs": [
    {
     "name": "stdout",
     "output_type": "stream",
     "text": [
      " I don't know.\n"
     ]
    }
   ],
   "source": [
    "question_1 = \"Who won the nobel prize for physics in 2023?\"\n",
    "print(retrievalQANoContext.run(question_1))"
   ]
  },
  {
   "cell_type": "code",
   "execution_count": null,
   "id": "0fcebe5a-ce47-4752-8670-413356e28c02",
   "metadata": {},
   "outputs": [],
   "source": []
  }
 ],
 "metadata": {
  "kernelspec": {
   "display_name": "Python 3 (ipykernel)",
   "language": "python",
   "name": "python3"
  },
  "language_info": {
   "codemirror_mode": {
    "name": "ipython",
    "version": 3
   },
   "file_extension": ".py",
   "mimetype": "text/x-python",
   "name": "python",
   "nbconvert_exporter": "python",
   "pygments_lexer": "ipython3",
   "version": "3.11.2"
  }
 },
 "nbformat": 4,
 "nbformat_minor": 5
}

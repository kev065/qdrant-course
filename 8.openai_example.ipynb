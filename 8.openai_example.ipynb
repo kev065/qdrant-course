{
 "cells": [
  {
   "cell_type": "code",
   "execution_count": 1,
   "id": "95ba2e04-61e7-4268-a265-81fe6ec2cd95",
   "metadata": {},
   "outputs": [],
   "source": [
    "#!pip install pandas\n",
    "import os\n",
    "import time\n",
    "import numpy as np\n",
    "import pandas as pd \n",
    "from qdrant_client import QdrantClient\n",
    "from qdrant_client.http import models\n",
    "from getpass import getpass\n",
    "from openai import OpenAI"
   ]
  },
  {
   "cell_type": "markdown",
   "id": "a21eabf0-6508-4022-a928-86677a8bb56a",
   "metadata": {},
   "source": [
    "### Spotify songs dataset from Kaggle\n",
    "\n",
    "The dataset is available for download in the below URL.\n",
    "\n",
    "https://www.kaggle.com/datasets/maharshipandya/-spotify-tracks-dataset\n",
    "\n",
    "The dataset contains ~114000 song information fom various popular artists."
   ]
  },
  {
   "cell_type": "code",
   "execution_count": 2,
   "id": "1a471d1c-67bf-4f7a-8757-39d23fa21720",
   "metadata": {},
   "outputs": [
    {
     "data": {
      "text/plain": [
       "(114000, 20)"
      ]
     },
     "execution_count": 2,
     "metadata": {},
     "output_type": "execute_result"
    }
   ],
   "source": [
    "## Read the data and filter out the un-necessary columns\n",
    "songs_dataset = pd.read_csv('spotify.zip', compression='zip', header=0)\n",
    "songs_dataset = songs_dataset.loc[:, ~songs_dataset.columns.str.contains('^Unnamed')]\n",
    "songs_dataset.shape"
   ]
  },
  {
   "cell_type": "code",
   "execution_count": 3,
   "id": "da8856e0-0043-4474-9f6c-08aeefde3305",
   "metadata": {},
   "outputs": [
    {
     "name": "stdout",
     "output_type": "stream",
     "text": [
      "                         album_name       track_name  popularity\n",
      "3006  Hybrid Theory (Bonus Edition)       In the End          85\n",
      "3007                        Meteora             Numb          83\n",
      "3262  Hybrid Theory (Bonus Edition)  One Step Closer          78\n",
      "3263                        Meteora            Faint          77\n",
      "3311  Hybrid Theory (Bonus Edition)         Crawling          76\n",
      "(154, 3)\n"
     ]
    }
   ],
   "source": [
    "## Filter the data for Linkin Park and choose only the album name, track name and popularity\n",
    "## columns for further processing\n",
    "\n",
    "lp_dataset = songs_dataset[songs_dataset['artists'].str.contains(\"Linkin Park\", na=False)]\n",
    "lp_dataset = lp_dataset[['album_name', 'track_name', 'popularity']]\n",
    "lp_dataset = lp_dataset.drop_duplicates(subset=['album_name', 'track_name'])\n",
    "lp_dataset = lp_dataset.sort_values('popularity', ascending=False)\n",
    "# lp_dataset = lp_dataset[:10]\n",
    "print(lp_dataset.head())\n",
    "print(lp_dataset.shape)"
   ]
  },
  {
   "cell_type": "markdown",
   "id": "8d7add73-182c-4c19-a432-72f90479f239",
   "metadata": {},
   "source": [
    "### Configurations\n",
    "\n",
    "Before we proceed, we need an Open AI account and get the secret API key for the account. Instructions to find the secret API key is available in the below URL.\n",
    "\n",
    "https://help.openai.com/en/articles/4936850-where-do-i-find-my-secret-api-key\n",
    "\n",
    "Open AI limits upto 200 API requests per day for free tier. So be careful wth the number of API calls. The COUNT variable can be used to limit the API calls.\n",
    "\n",
    "We will use the text-embedding-ada-002 model from OpenAI to generate the embeddings"
   ]
  },
  {
   "cell_type": "code",
   "execution_count": 4,
   "id": "fc459662-0a15-4863-88e8-6c0f322eef44",
   "metadata": {},
   "outputs": [
    {
     "name": "stdin",
     "output_type": "stream",
     "text": [
      "OpenAI API Key:  ········\n"
     ]
    }
   ],
   "source": [
    "# Configs\n",
    "COLLECTION_NAME = 'linkin_park'  # Collection name in Qdrant\n",
    "DIMENSION = 1536  # Embeddings size, depends on the embedding model.\n",
    "COUNT = 1000  # Max Number of titles to embed and insert.\n",
    "OPENAI_MODEL = 'text-embedding-ada-002'  # Embedding model to be used\n",
    "OPEN_AI_API_KEY = getpass('OpenAI API Key: ')"
   ]
  },
  {
   "cell_type": "code",
   "execution_count": 5,
   "id": "dee83d70-75b2-4806-a09d-cb7d1635b0a0",
   "metadata": {},
   "outputs": [],
   "source": [
    "# Create the connection to Qdrant DB. \n",
    "\n",
    "qdrant_client = QdrantClient(\"localhost\", port=6333, timeout=60)\n"
   ]
  },
  {
   "cell_type": "code",
   "execution_count": 6,
   "id": "89e405dc-6f97-40f8-a241-90dc67ccb015",
   "metadata": {},
   "outputs": [
    {
     "data": {
      "text/plain": [
       "True"
      ]
     },
     "execution_count": 6,
     "metadata": {},
     "output_type": "execute_result"
    }
   ],
   "source": [
    "# Create the collection in qdrant\n",
    "qdrant_client.delete_collection(collection_name=COLLECTION_NAME)\n",
    "\n",
    "qdrant_client.create_collection(\n",
    "    collection_name=COLLECTION_NAME,\n",
    "    vectors_config=models.VectorParams(size=DIMENSION,\n",
    "                                       distance=models.Distance.COSINE),\n",
    ")"
   ]
  },
  {
   "cell_type": "code",
   "execution_count": 7,
   "id": "e99a9f29-57d1-4e0f-984c-b70b51ccab70",
   "metadata": {},
   "outputs": [],
   "source": [
    "# Get the embeddings for the text using OpenAI\n",
    "openai_client = OpenAI(\n",
    "    api_key=OPEN_AI_API_KEY,\n",
    ")\n",
    "\n",
    "def embed(text):\n",
    "    return openai_client.embeddings.create(\n",
    "        input=text, \n",
    "        model=OPENAI_MODEL).data[0].embedding"
   ]
  },
  {
   "cell_type": "code",
   "execution_count": 8,
   "id": "17d2484e-d759-4cee-8c8b-655f9fc0ecd5",
   "metadata": {},
   "outputs": [
    {
     "name": "stdout",
     "output_type": "stream",
     "text": [
      "Embedding generated for 10 song titles\n",
      "Embedding generated for 20 song titles\n",
      "Embedding generated for 30 song titles\n",
      "Embedding generated for 40 song titles\n",
      "Embedding generated for 50 song titles\n",
      "Embedding generated for 60 song titles\n",
      "Embedding generated for 70 song titles\n",
      "Embedding generated for 80 song titles\n",
      "Embedding generated for 90 song titles\n",
      "Embedding generated for 100 song titles\n",
      "Embedding generated for 110 song titles\n",
      "Embedding generated for 120 song titles\n",
      "Embedding generated for 130 song titles\n",
      "Embedding generated for 140 song titles\n",
      "Embedding generated for 150 song titles\n"
     ]
    }
   ],
   "source": [
    "# Generate embeddings and payload\n",
    "\n",
    "count = 0\n",
    "payloads = []\n",
    "embds = []\n",
    "\n",
    "for index, row in lp_dataset.iterrows():\n",
    "    payloads.append({'track_name': row['track_name'],\n",
    "                    'album_name':row['album_name'],\n",
    "                    'popularity':row['popularity']})\n",
    "    embds.append(embed(row['track_name']))\n",
    "\n",
    "    count+=1\n",
    "    if count%10==0 and count>0:\n",
    "        print(f'Embedding generated for {count} song titles')\n",
    "    if count==COUNT:\n",
    "        break\n",
    "\n",
    "# generate IDs\n",
    "\n",
    "ids = [x for x in range(len(payloads))]"
   ]
  },
  {
   "cell_type": "code",
   "execution_count": 9,
   "id": "1898ccee-dfa2-4d74-9a96-73b53eba6acd",
   "metadata": {},
   "outputs": [
    {
     "data": {
      "text/plain": [
       "UpdateResult(operation_id=0, status=<UpdateStatus.COMPLETED: 'completed'>)"
      ]
     },
     "execution_count": 9,
     "metadata": {},
     "output_type": "execute_result"
    }
   ],
   "source": [
    "# Batch insert\n",
    "\n",
    "qdrant_client.upsert(\n",
    "    collection_name=COLLECTION_NAME,\n",
    "    points=models.Batch(\n",
    "        ids=ids,\n",
    "        payloads=payloads,\n",
    "        vectors=embds,\n",
    "    ),\n",
    ")"
   ]
  },
  {
   "cell_type": "code",
   "execution_count": 10,
   "id": "807440fd-2248-4cb3-8658-1ade110968c2",
   "metadata": {},
   "outputs": [
    {
     "data": {
      "text/plain": [
       "[ScoredPoint(id=140, version=0, score=0.93740886, payload={'album_name': 'A Thousand Suns', 'popularity': 36, 'track_name': 'The Catalyst'}, vector=None, shard_key=None),\n",
       " ScoredPoint(id=129, version=0, score=0.78908646, payload={'album_name': 'A Thousand Suns', 'popularity': 42, 'track_name': 'Iridescent'}, vector=None, shard_key=None),\n",
       " ScoredPoint(id=147, version=0, score=0.77680504, payload={'album_name': 'A Thousand Suns', 'popularity': 30, 'track_name': 'Burning in the Skies'}, vector=None, shard_key=None)]"
      ]
     },
     "execution_count": 10,
     "metadata": {},
     "output_type": "execute_result"
    }
   ],
   "source": [
    "# Search the database based on input text\n",
    "search_term='catalyst'\n",
    "\n",
    "search_vec = embed(search_term)\n",
    "qdrant_client.search(\n",
    "    collection_name=COLLECTION_NAME,\n",
    "    query_vector=( search_vec),\n",
    "    limit=3,\n",
    "    query_filter=models.Filter(\n",
    "    must=[\n",
    "        models.FieldCondition(\n",
    "                key=\"popularity\",\n",
    "    range=models.Range(\n",
    "        gte=10\n",
    "    ),\n",
    "    )\n",
    "    ]\n",
    "),\n",
    ")"
   ]
  },
  {
   "cell_type": "code",
   "execution_count": null,
   "id": "9b0eea8f-9b1b-4d54-b34c-32dfc47fa895",
   "metadata": {},
   "outputs": [],
   "source": []
  }
 ],
 "metadata": {
  "kernelspec": {
   "display_name": "Python 3 (ipykernel)",
   "language": "python",
   "name": "python3"
  },
  "language_info": {
   "codemirror_mode": {
    "name": "ipython",
    "version": 3
   },
   "file_extension": ".py",
   "mimetype": "text/x-python",
   "name": "python",
   "nbconvert_exporter": "python",
   "pygments_lexer": "ipython3",
   "version": "3.11.2"
  }
 },
 "nbformat": 4,
 "nbformat_minor": 5
}

{
 "cells": [
  {
   "cell_type": "code",
   "execution_count": 5,
   "id": "eaf10f2b-50f5-4b25-81e0-524006582491",
   "metadata": {},
   "outputs": [],
   "source": [
    "from qdrant_client import QdrantClient\n",
    "from qdrant_client.http import models\n",
    "from random import  uniform"
   ]
  },
  {
   "cell_type": "code",
   "execution_count": 2,
   "id": "6410def3-88b1-4fc9-94f8-064cb62eedf1",
   "metadata": {},
   "outputs": [],
   "source": [
    "client = QdrantClient(\"localhost\", port=6333)"
   ]
  },
  {
   "cell_type": "code",
   "execution_count": 3,
   "id": "debdad3b-2e5b-46c0-a27c-73896f87b2cd",
   "metadata": {},
   "outputs": [
    {
     "data": {
      "text/plain": [
       "True"
      ]
     },
     "execution_count": 3,
     "metadata": {},
     "output_type": "execute_result"
    }
   ],
   "source": [
    "client.create_collection(\n",
    "    collection_name=\"scalar_quantization_collection\",\n",
    "    vectors_config=models.VectorParams(size=1024, distance=models.Distance.EUCLID),\n",
    "    quantization_config=models.ScalarQuantization(\n",
    "        scalar=models.ScalarQuantizationConfig(\n",
    "            type=models.ScalarType.INT8,\n",
    "            quantile=0.99,\n",
    "            always_ram=True,\n",
    "        ),\n",
    "    ),\n",
    ")"
   ]
  },
  {
   "cell_type": "code",
   "execution_count": 4,
   "id": "4d082720-62cc-4793-81bc-a64983096a5d",
   "metadata": {},
   "outputs": [
    {
     "data": {
      "text/plain": [
       "True"
      ]
     },
     "execution_count": 4,
     "metadata": {},
     "output_type": "execute_result"
    }
   ],
   "source": [
    "## Binary Quantization\n",
    "\n",
    "client.create_collection(\n",
    "    collection_name=\"binary_quantization_collection\",\n",
    "    vectors_config=models.VectorParams(size=1024, distance=models.Distance.COSINE),\n",
    "    quantization_config=models.BinaryQuantization(\n",
    "        binary=models.BinaryQuantizationConfig(\n",
    "            always_ram=True,\n",
    "        ),\n",
    "    ),\n",
    ")"
   ]
  },
  {
   "cell_type": "code",
   "execution_count": 6,
   "id": "4183d82d-3790-4acf-bd6c-eb3a54c8a224",
   "metadata": {},
   "outputs": [
    {
     "data": {
      "text/plain": [
       "True"
      ]
     },
     "execution_count": 6,
     "metadata": {},
     "output_type": "execute_result"
    }
   ],
   "source": [
    "# Product Quantization\n",
    "\n",
    "client.create_collection(\n",
    "    collection_name=\"product_quantization_collection\",\n",
    "    vectors_config=models.VectorParams(size=1024, distance=models.Distance.COSINE),\n",
    "    quantization_config=models.ProductQuantization(\n",
    "        product=models.ProductQuantizationConfig(\n",
    "            compression=models.CompressionRatio.X16,\n",
    "            always_ram=True,\n",
    "        ),\n",
    "    ),\n",
    ")"
   ]
  },
  {
   "cell_type": "code",
   "execution_count": 7,
   "id": "3759f7b1-7206-4526-91c5-792339e13589",
   "metadata": {},
   "outputs": [
    {
     "data": {
      "text/plain": [
       "UpdateResult(operation_id=0, status=<UpdateStatus.COMPLETED: 'completed'>)"
      ]
     },
     "execution_count": 7,
     "metadata": {},
     "output_type": "execute_result"
    }
   ],
   "source": [
    "# Batch insert - product quantization\n",
    "\n",
    "insert_vectors = [[uniform(-0.999, 0.999) for vec in range(1024)] for x in range(1000)]\n",
    "\n",
    "\n",
    "client.upsert(\n",
    "    collection_name=\"product_quantization_collection\",\n",
    "    points=models.Batch(\n",
    "        ids=[x for x in range(1000)],\n",
    "        vectors=insert_vectors,\n",
    "    ),\n",
    ")"
   ]
  },
  {
   "cell_type": "code",
   "execution_count": null,
   "id": "f4a07e3b-1222-49f9-a92b-aefc1c9f1139",
   "metadata": {},
   "outputs": [],
   "source": [
    "client.search(\n",
    "    collection_name=\"product_quantization_collection\",\n",
    "    query_vector=[uniform(-0.999, 0.999) for vec in range(1024)],\n",
    "    search_params=models.SearchParams(\n",
    "        quantization=models.QuantizationSearchParams(\n",
    "            ignore=False,\n",
    "            rescore=True,\n",
    "            oversampling=1.0,\n",
    "        )\n",
    "    ),\n",
    ")"
   ]
  }
 ],
 "metadata": {
  "kernelspec": {
   "display_name": "Python 3 (ipykernel)",
   "language": "python",
   "name": "python3"
  },
  "language_info": {
   "codemirror_mode": {
    "name": "ipython",
    "version": 3
   },
   "file_extension": ".py",
   "mimetype": "text/x-python",
   "name": "python",
   "nbconvert_exporter": "python",
   "pygments_lexer": "ipython3",
   "version": "3.11.2"
  }
 },
 "nbformat": 4,
 "nbformat_minor": 5
}
